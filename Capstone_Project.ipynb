{
 "cells": [
  {
   "cell_type": "markdown",
   "metadata": {},
   "source": [
    "### Import Required library"
   ]
  },
  {
   "cell_type": "code",
   "execution_count": 1,
   "metadata": {},
   "outputs": [],
   "source": [
    "import pandas as pd \n",
    "import missingno as msno\n",
    "import math\n",
    "import numpy as np\n",
    "import seaborn as sns"
   ]
  },
  {
   "cell_type": "code",
   "execution_count": 2,
   "metadata": {},
   "outputs": [
    {
     "data": {
      "text/html": [
       "<div>\n",
       "<style scoped>\n",
       "    .dataframe tbody tr th:only-of-type {\n",
       "        vertical-align: middle;\n",
       "    }\n",
       "\n",
       "    .dataframe tbody tr th {\n",
       "        vertical-align: top;\n",
       "    }\n",
       "\n",
       "    .dataframe thead th {\n",
       "        text-align: right;\n",
       "    }\n",
       "</style>\n",
       "<table border=\"1\" class=\"dataframe\">\n",
       "  <thead>\n",
       "    <tr style=\"text-align: right;\">\n",
       "      <th></th>\n",
       "      <th>Afghanistan</th>\n",
       "      <th>Albania</th>\n",
       "      <th>Algeria</th>\n",
       "      <th>Andorra</th>\n",
       "      <th>Angola</th>\n",
       "      <th>Anguilla</th>\n",
       "      <th>Antigua and Barbuda</th>\n",
       "      <th>Argentina</th>\n",
       "      <th>Armenia</th>\n",
       "      <th>Aruba</th>\n",
       "      <th>...</th>\n",
       "      <th>Uruguay</th>\n",
       "      <th>Uzbekistan</th>\n",
       "      <th>Vanuatu</th>\n",
       "      <th>Venezuela</th>\n",
       "      <th>Vietnam</th>\n",
       "      <th>Wallis and Futuna Islands</th>\n",
       "      <th>Western Sahara</th>\n",
       "      <th>Yemen</th>\n",
       "      <th>Zambia</th>\n",
       "      <th>Zimbabwe</th>\n",
       "    </tr>\n",
       "    <tr>\n",
       "      <th>Year</th>\n",
       "      <th></th>\n",
       "      <th></th>\n",
       "      <th></th>\n",
       "      <th></th>\n",
       "      <th></th>\n",
       "      <th></th>\n",
       "      <th></th>\n",
       "      <th></th>\n",
       "      <th></th>\n",
       "      <th></th>\n",
       "      <th></th>\n",
       "      <th></th>\n",
       "      <th></th>\n",
       "      <th></th>\n",
       "      <th></th>\n",
       "      <th></th>\n",
       "      <th></th>\n",
       "      <th></th>\n",
       "      <th></th>\n",
       "      <th></th>\n",
       "      <th></th>\n",
       "    </tr>\n",
       "  </thead>\n",
       "  <tbody>\n",
       "    <tr>\n",
       "      <th>1960</th>\n",
       "      <td>0.41388</td>\n",
       "      <td>2.0225</td>\n",
       "      <td>6.1512</td>\n",
       "      <td>NaN</td>\n",
       "      <td>0.54895</td>\n",
       "      <td>NaN</td>\n",
       "      <td>0.036640</td>\n",
       "      <td>48.7645</td>\n",
       "      <td>2.4936</td>\n",
       "      <td>0.61856</td>\n",
       "      <td>...</td>\n",
       "      <td>4.3145</td>\n",
       "      <td>47.8515</td>\n",
       "      <td>NaN</td>\n",
       "      <td>57.0168</td>\n",
       "      <td>7.4839</td>\n",
       "      <td>NaN</td>\n",
       "      <td>NaN</td>\n",
       "      <td>3.6310</td>\n",
       "      <td>4.3552</td>\n",
       "      <td>5.9432</td>\n",
       "    </tr>\n",
       "    <tr>\n",
       "      <th>1961</th>\n",
       "      <td>0.49080</td>\n",
       "      <td>2.2790</td>\n",
       "      <td>6.0559</td>\n",
       "      <td>NaN</td>\n",
       "      <td>0.45371</td>\n",
       "      <td>NaN</td>\n",
       "      <td>0.047632</td>\n",
       "      <td>51.1267</td>\n",
       "      <td>2.5714</td>\n",
       "      <td>0.64555</td>\n",
       "      <td>...</td>\n",
       "      <td>4.1168</td>\n",
       "      <td>49.3462</td>\n",
       "      <td>NaN</td>\n",
       "      <td>51.8798</td>\n",
       "      <td>7.9783</td>\n",
       "      <td>NaN</td>\n",
       "      <td>NaN</td>\n",
       "      <td>2.6637</td>\n",
       "      <td>3.7090</td>\n",
       "      <td>5.0613</td>\n",
       "    </tr>\n",
       "    <tr>\n",
       "      <th>1962</th>\n",
       "      <td>0.68859</td>\n",
       "      <td>2.4622</td>\n",
       "      <td>5.6610</td>\n",
       "      <td>NaN</td>\n",
       "      <td>1.17910</td>\n",
       "      <td>NaN</td>\n",
       "      <td>0.102590</td>\n",
       "      <td>53.6401</td>\n",
       "      <td>2.6987</td>\n",
       "      <td>0.70894</td>\n",
       "      <td>...</td>\n",
       "      <td>4.0069</td>\n",
       "      <td>51.7895</td>\n",
       "      <td>0.040304</td>\n",
       "      <td>54.0561</td>\n",
       "      <td>9.3377</td>\n",
       "      <td>NaN</td>\n",
       "      <td>NaN</td>\n",
       "      <td>3.8838</td>\n",
       "      <td>3.5827</td>\n",
       "      <td>4.8890</td>\n",
       "    </tr>\n",
       "    <tr>\n",
       "      <th>1963</th>\n",
       "      <td>0.70674</td>\n",
       "      <td>2.0812</td>\n",
       "      <td>5.4192</td>\n",
       "      <td>NaN</td>\n",
       "      <td>1.14970</td>\n",
       "      <td>NaN</td>\n",
       "      <td>0.084272</td>\n",
       "      <td>50.0327</td>\n",
       "      <td>2.8942</td>\n",
       "      <td>0.67909</td>\n",
       "      <td>...</td>\n",
       "      <td>4.3148</td>\n",
       "      <td>55.5408</td>\n",
       "      <td>0.032976</td>\n",
       "      <td>56.1517</td>\n",
       "      <td>9.1104</td>\n",
       "      <td>NaN</td>\n",
       "      <td>NaN</td>\n",
       "      <td>2.9165</td>\n",
       "      <td>3.4445</td>\n",
       "      <td>4.7004</td>\n",
       "    </tr>\n",
       "    <tr>\n",
       "      <th>1964</th>\n",
       "      <td>0.83855</td>\n",
       "      <td>2.0152</td>\n",
       "      <td>5.6430</td>\n",
       "      <td>NaN</td>\n",
       "      <td>1.22290</td>\n",
       "      <td>NaN</td>\n",
       "      <td>0.091600</td>\n",
       "      <td>55.6700</td>\n",
       "      <td>3.0780</td>\n",
       "      <td>0.66028</td>\n",
       "      <td>...</td>\n",
       "      <td>4.5527</td>\n",
       "      <td>59.0674</td>\n",
       "      <td>0.062288</td>\n",
       "      <td>56.5500</td>\n",
       "      <td>11.7878</td>\n",
       "      <td>NaN</td>\n",
       "      <td>NaN</td>\n",
       "      <td>3.6310</td>\n",
       "      <td>3.2750</td>\n",
       "      <td>4.4691</td>\n",
       "    </tr>\n",
       "  </tbody>\n",
       "</table>\n",
       "<p>5 rows × 220 columns</p>\n",
       "</div>"
      ],
      "text/plain": [
       "      Afghanistan  Albania  Algeria  Andorra   Angola  Anguilla  \\\n",
       "Year                                                              \n",
       "1960      0.41388   2.0225   6.1512      NaN  0.54895       NaN   \n",
       "1961      0.49080   2.2790   6.0559      NaN  0.45371       NaN   \n",
       "1962      0.68859   2.4622   5.6610      NaN  1.17910       NaN   \n",
       "1963      0.70674   2.0812   5.4192      NaN  1.14970       NaN   \n",
       "1964      0.83855   2.0152   5.6430      NaN  1.22290       NaN   \n",
       "\n",
       "      Antigua and Barbuda  Argentina  Armenia    Aruba  ...  Uruguay  \\\n",
       "Year                                                    ...            \n",
       "1960             0.036640    48.7645   2.4936  0.61856  ...   4.3145   \n",
       "1961             0.047632    51.1267   2.5714  0.64555  ...   4.1168   \n",
       "1962             0.102590    53.6401   2.6987  0.70894  ...   4.0069   \n",
       "1963             0.084272    50.0327   2.8942  0.67909  ...   4.3148   \n",
       "1964             0.091600    55.6700   3.0780  0.66028  ...   4.5527   \n",
       "\n",
       "      Uzbekistan   Vanuatu  Venezuela  Vietnam  Wallis and Futuna Islands  \\\n",
       "Year                                                                        \n",
       "1960     47.8515       NaN    57.0168   7.4839                        NaN   \n",
       "1961     49.3462       NaN    51.8798   7.9783                        NaN   \n",
       "1962     51.7895  0.040304    54.0561   9.3377                        NaN   \n",
       "1963     55.5408  0.032976    56.1517   9.1104                        NaN   \n",
       "1964     59.0674  0.062288    56.5500  11.7878                        NaN   \n",
       "\n",
       "      Western Sahara   Yemen  Zambia  Zimbabwe  \n",
       "Year                                            \n",
       "1960             NaN  3.6310  4.3552    5.9432  \n",
       "1961             NaN  2.6637  3.7090    5.0613  \n",
       "1962             NaN  3.8838  3.5827    4.8890  \n",
       "1963             NaN  2.9165  3.4445    4.7004  \n",
       "1964             NaN  3.6310  3.2750    4.4691  \n",
       "\n",
       "[5 rows x 220 columns]"
      ]
     },
     "execution_count": 2,
     "metadata": {},
     "output_type": "execute_result"
    }
   ],
   "source": [
    "#CO2 emission data \n",
    "data = pd.read_excel('export_20190917_1439.xlsx',index_col=0)\n",
    "data.head()"
   ]
  },
  {
   "cell_type": "code",
   "execution_count": 3,
   "metadata": {},
   "outputs": [
    {
     "data": {
      "text/html": [
       "<div>\n",
       "<style scoped>\n",
       "    .dataframe tbody tr th:only-of-type {\n",
       "        vertical-align: middle;\n",
       "    }\n",
       "\n",
       "    .dataframe tbody tr th {\n",
       "        vertical-align: top;\n",
       "    }\n",
       "\n",
       "    .dataframe thead th {\n",
       "        text-align: right;\n",
       "    }\n",
       "</style>\n",
       "<table border=\"1\" class=\"dataframe\">\n",
       "  <thead>\n",
       "    <tr style=\"text-align: right;\">\n",
       "      <th></th>\n",
       "      <th>Country Name</th>\n",
       "      <th>Country Code</th>\n",
       "      <th>1990</th>\n",
       "      <th>1991</th>\n",
       "      <th>1992</th>\n",
       "      <th>1993</th>\n",
       "      <th>1994</th>\n",
       "      <th>1995</th>\n",
       "      <th>1996</th>\n",
       "      <th>1997</th>\n",
       "      <th>...</th>\n",
       "      <th>2009</th>\n",
       "      <th>2010</th>\n",
       "      <th>2011</th>\n",
       "      <th>2012</th>\n",
       "      <th>2013</th>\n",
       "      <th>2014</th>\n",
       "      <th>2015</th>\n",
       "      <th>2016</th>\n",
       "      <th>2017</th>\n",
       "      <th>2018</th>\n",
       "    </tr>\n",
       "  </thead>\n",
       "  <tbody>\n",
       "    <tr>\n",
       "      <th>0</th>\n",
       "      <td>Aruba</td>\n",
       "      <td>ABW</td>\n",
       "      <td>24101.109429</td>\n",
       "      <td>25870.755945</td>\n",
       "      <td>26533.343900</td>\n",
       "      <td>27430.752401</td>\n",
       "      <td>28656.520214</td>\n",
       "      <td>28648.990021</td>\n",
       "      <td>28499.089435</td>\n",
       "      <td>30215.949227</td>\n",
       "      <td>...</td>\n",
       "      <td>34693.086745</td>\n",
       "      <td>33732.847450</td>\n",
       "      <td>35492.618487</td>\n",
       "      <td>35498.982089</td>\n",
       "      <td>37419.892817</td>\n",
       "      <td>38223.372261</td>\n",
       "      <td>38249.054869</td>\n",
       "      <td>38390.271649</td>\n",
       "      <td>39454.629831</td>\n",
       "      <td>NaN</td>\n",
       "    </tr>\n",
       "    <tr>\n",
       "      <th>1</th>\n",
       "      <td>Afghanistan</td>\n",
       "      <td>AFG</td>\n",
       "      <td>NaN</td>\n",
       "      <td>NaN</td>\n",
       "      <td>NaN</td>\n",
       "      <td>NaN</td>\n",
       "      <td>NaN</td>\n",
       "      <td>NaN</td>\n",
       "      <td>NaN</td>\n",
       "      <td>NaN</td>\n",
       "      <td>...</td>\n",
       "      <td>1454.663015</td>\n",
       "      <td>1637.377987</td>\n",
       "      <td>1626.764793</td>\n",
       "      <td>1806.763930</td>\n",
       "      <td>1874.765634</td>\n",
       "      <td>1897.525938</td>\n",
       "      <td>1886.692977</td>\n",
       "      <td>1896.992520</td>\n",
       "      <td>1934.636754</td>\n",
       "      <td>1951.558504</td>\n",
       "    </tr>\n",
       "    <tr>\n",
       "      <th>2</th>\n",
       "      <td>Angola</td>\n",
       "      <td>AGO</td>\n",
       "      <td>3089.683369</td>\n",
       "      <td>3120.356148</td>\n",
       "      <td>2908.160798</td>\n",
       "      <td>2190.768160</td>\n",
       "      <td>2195.532289</td>\n",
       "      <td>2496.199493</td>\n",
       "      <td>2794.896906</td>\n",
       "      <td>2953.342709</td>\n",
       "      <td>...</td>\n",
       "      <td>6092.783245</td>\n",
       "      <td>6230.297028</td>\n",
       "      <td>6346.395122</td>\n",
       "      <td>6772.528333</td>\n",
       "      <td>6980.423038</td>\n",
       "      <td>7199.245478</td>\n",
       "      <td>7096.600615</td>\n",
       "      <td>6756.935074</td>\n",
       "      <td>6650.584940</td>\n",
       "      <td>6440.976270</td>\n",
       "    </tr>\n",
       "    <tr>\n",
       "      <th>3</th>\n",
       "      <td>Albania</td>\n",
       "      <td>ALB</td>\n",
       "      <td>2549.464533</td>\n",
       "      <td>1909.107682</td>\n",
       "      <td>1823.301602</td>\n",
       "      <td>2057.442806</td>\n",
       "      <td>2289.865511</td>\n",
       "      <td>2665.756031</td>\n",
       "      <td>2980.056366</td>\n",
       "      <td>2717.353077</td>\n",
       "      <td>...</td>\n",
       "      <td>8814.834988</td>\n",
       "      <td>9628.003545</td>\n",
       "      <td>10207.753519</td>\n",
       "      <td>10526.255328</td>\n",
       "      <td>10571.007488</td>\n",
       "      <td>11259.289824</td>\n",
       "      <td>11662.044933</td>\n",
       "      <td>11868.211515</td>\n",
       "      <td>12930.067676</td>\n",
       "      <td>NaN</td>\n",
       "    </tr>\n",
       "    <tr>\n",
       "      <th>4</th>\n",
       "      <td>Andorra</td>\n",
       "      <td>AND</td>\n",
       "      <td>NaN</td>\n",
       "      <td>NaN</td>\n",
       "      <td>NaN</td>\n",
       "      <td>NaN</td>\n",
       "      <td>NaN</td>\n",
       "      <td>NaN</td>\n",
       "      <td>NaN</td>\n",
       "      <td>NaN</td>\n",
       "      <td>...</td>\n",
       "      <td>NaN</td>\n",
       "      <td>NaN</td>\n",
       "      <td>NaN</td>\n",
       "      <td>NaN</td>\n",
       "      <td>NaN</td>\n",
       "      <td>NaN</td>\n",
       "      <td>NaN</td>\n",
       "      <td>NaN</td>\n",
       "      <td>NaN</td>\n",
       "      <td>NaN</td>\n",
       "    </tr>\n",
       "  </tbody>\n",
       "</table>\n",
       "<p>5 rows × 31 columns</p>\n",
       "</div>"
      ],
      "text/plain": [
       "  Country Name Country Code          1990          1991          1992  \\\n",
       "0        Aruba          ABW  24101.109429  25870.755945  26533.343900   \n",
       "1  Afghanistan          AFG           NaN           NaN           NaN   \n",
       "2       Angola          AGO   3089.683369   3120.356148   2908.160798   \n",
       "3      Albania          ALB   2549.464533   1909.107682   1823.301602   \n",
       "4      Andorra          AND           NaN           NaN           NaN   \n",
       "\n",
       "           1993          1994          1995          1996          1997  ...  \\\n",
       "0  27430.752401  28656.520214  28648.990021  28499.089435  30215.949227  ...   \n",
       "1           NaN           NaN           NaN           NaN           NaN  ...   \n",
       "2   2190.768160   2195.532289   2496.199493   2794.896906   2953.342709  ...   \n",
       "3   2057.442806   2289.865511   2665.756031   2980.056366   2717.353077  ...   \n",
       "4           NaN           NaN           NaN           NaN           NaN  ...   \n",
       "\n",
       "           2009          2010          2011          2012          2013  \\\n",
       "0  34693.086745  33732.847450  35492.618487  35498.982089  37419.892817   \n",
       "1   1454.663015   1637.377987   1626.764793   1806.763930   1874.765634   \n",
       "2   6092.783245   6230.297028   6346.395122   6772.528333   6980.423038   \n",
       "3   8814.834988   9628.003545  10207.753519  10526.255328  10571.007488   \n",
       "4           NaN           NaN           NaN           NaN           NaN   \n",
       "\n",
       "           2014          2015          2016          2017         2018  \n",
       "0  38223.372261  38249.054869  38390.271649  39454.629831          NaN  \n",
       "1   1897.525938   1886.692977   1896.992520   1934.636754  1951.558504  \n",
       "2   7199.245478   7096.600615   6756.935074   6650.584940  6440.976270  \n",
       "3  11259.289824  11662.044933  11868.211515  12930.067676          NaN  \n",
       "4           NaN           NaN           NaN           NaN          NaN  \n",
       "\n",
       "[5 rows x 31 columns]"
      ]
     },
     "execution_count": 3,
     "metadata": {},
     "output_type": "execute_result"
    }
   ],
   "source": [
    "#GDP per capita data\n",
    "gdp = pd.read_excel(\"GDP per capita.xls\")\n",
    "gdp.head()"
   ]
  },
  {
   "cell_type": "markdown",
   "metadata": {},
   "source": [
    "As we see that country name in gdp data as index while in the emission it is feature column. So we need to represent country name of the emission data as one column to do that wee use transpose it."
   ]
  },
  {
   "cell_type": "code",
   "execution_count": 4,
   "metadata": {},
   "outputs": [],
   "source": [
    "emission = data.transpose()\n",
    "emission.drop(emission.iloc[:,0:30], axis=1,inplace=True)\n",
    "emission.index.names=['country_name']"
   ]
  },
  {
   "cell_type": "code",
   "execution_count": 5,
   "metadata": {},
   "outputs": [
    {
     "name": "stdout",
     "output_type": "stream",
     "text": [
      "(220, 28)\n",
      "(264, 31)\n"
     ]
    }
   ],
   "source": [
    "print(emission.shape)\n",
    "print(gdp.shape)"
   ]
  },
  {
   "cell_type": "code",
   "execution_count": 6,
   "metadata": {},
   "outputs": [
    {
     "data": {
      "text/html": [
       "<div>\n",
       "<style scoped>\n",
       "    .dataframe tbody tr th:only-of-type {\n",
       "        vertical-align: middle;\n",
       "    }\n",
       "\n",
       "    .dataframe tbody tr th {\n",
       "        vertical-align: top;\n",
       "    }\n",
       "\n",
       "    .dataframe thead th {\n",
       "        text-align: right;\n",
       "    }\n",
       "</style>\n",
       "<table border=\"1\" class=\"dataframe\">\n",
       "  <thead>\n",
       "    <tr style=\"text-align: right;\">\n",
       "      <th></th>\n",
       "      <th>Country Name</th>\n",
       "      <th>1990</th>\n",
       "      <th>1991</th>\n",
       "      <th>1992</th>\n",
       "      <th>1993</th>\n",
       "      <th>1994</th>\n",
       "      <th>1995</th>\n",
       "      <th>1996</th>\n",
       "      <th>1997</th>\n",
       "      <th>1998</th>\n",
       "      <th>...</th>\n",
       "      <th>2008</th>\n",
       "      <th>2009</th>\n",
       "      <th>2010</th>\n",
       "      <th>2011</th>\n",
       "      <th>2012</th>\n",
       "      <th>2013</th>\n",
       "      <th>2014</th>\n",
       "      <th>2015</th>\n",
       "      <th>2016</th>\n",
       "      <th>2017</th>\n",
       "    </tr>\n",
       "  </thead>\n",
       "  <tbody>\n",
       "    <tr>\n",
       "      <th>0</th>\n",
       "      <td>Aruba</td>\n",
       "      <td>24101.109429</td>\n",
       "      <td>25870.755945</td>\n",
       "      <td>26533.343900</td>\n",
       "      <td>27430.752401</td>\n",
       "      <td>28656.520214</td>\n",
       "      <td>28648.990021</td>\n",
       "      <td>28499.089435</td>\n",
       "      <td>30215.949227</td>\n",
       "      <td>30512.683909</td>\n",
       "      <td>...</td>\n",
       "      <td>38515.263797</td>\n",
       "      <td>34693.086745</td>\n",
       "      <td>33732.847450</td>\n",
       "      <td>35492.618487</td>\n",
       "      <td>35498.982089</td>\n",
       "      <td>37419.892817</td>\n",
       "      <td>38223.372261</td>\n",
       "      <td>38249.054869</td>\n",
       "      <td>38390.271649</td>\n",
       "      <td>39454.629831</td>\n",
       "    </tr>\n",
       "    <tr>\n",
       "      <th>1</th>\n",
       "      <td>Afghanistan</td>\n",
       "      <td>NaN</td>\n",
       "      <td>NaN</td>\n",
       "      <td>NaN</td>\n",
       "      <td>NaN</td>\n",
       "      <td>NaN</td>\n",
       "      <td>NaN</td>\n",
       "      <td>NaN</td>\n",
       "      <td>NaN</td>\n",
       "      <td>NaN</td>\n",
       "      <td>...</td>\n",
       "      <td>1218.118215</td>\n",
       "      <td>1454.663015</td>\n",
       "      <td>1637.377987</td>\n",
       "      <td>1626.764793</td>\n",
       "      <td>1806.763930</td>\n",
       "      <td>1874.765634</td>\n",
       "      <td>1897.525938</td>\n",
       "      <td>1886.692977</td>\n",
       "      <td>1896.992520</td>\n",
       "      <td>1934.636754</td>\n",
       "    </tr>\n",
       "    <tr>\n",
       "      <th>2</th>\n",
       "      <td>Angola</td>\n",
       "      <td>3089.683369</td>\n",
       "      <td>3120.356148</td>\n",
       "      <td>2908.160798</td>\n",
       "      <td>2190.768160</td>\n",
       "      <td>2195.532289</td>\n",
       "      <td>2496.199493</td>\n",
       "      <td>2794.896906</td>\n",
       "      <td>2953.342709</td>\n",
       "      <td>3027.341795</td>\n",
       "      <td>...</td>\n",
       "      <td>6221.423373</td>\n",
       "      <td>6092.783245</td>\n",
       "      <td>6230.297028</td>\n",
       "      <td>6346.395122</td>\n",
       "      <td>6772.528333</td>\n",
       "      <td>6980.423038</td>\n",
       "      <td>7199.245478</td>\n",
       "      <td>7096.600615</td>\n",
       "      <td>6756.935074</td>\n",
       "      <td>6650.584940</td>\n",
       "    </tr>\n",
       "    <tr>\n",
       "      <th>3</th>\n",
       "      <td>Albania</td>\n",
       "      <td>2549.464533</td>\n",
       "      <td>1909.107682</td>\n",
       "      <td>1823.301602</td>\n",
       "      <td>2057.442806</td>\n",
       "      <td>2289.865511</td>\n",
       "      <td>2665.756031</td>\n",
       "      <td>2980.056366</td>\n",
       "      <td>2717.353077</td>\n",
       "      <td>3021.015350</td>\n",
       "      <td>...</td>\n",
       "      <td>8228.364871</td>\n",
       "      <td>8814.834988</td>\n",
       "      <td>9628.003545</td>\n",
       "      <td>10207.753519</td>\n",
       "      <td>10526.255328</td>\n",
       "      <td>10571.007488</td>\n",
       "      <td>11259.289824</td>\n",
       "      <td>11662.044933</td>\n",
       "      <td>11868.211515</td>\n",
       "      <td>12930.067676</td>\n",
       "    </tr>\n",
       "    <tr>\n",
       "      <th>4</th>\n",
       "      <td>Andorra</td>\n",
       "      <td>NaN</td>\n",
       "      <td>NaN</td>\n",
       "      <td>NaN</td>\n",
       "      <td>NaN</td>\n",
       "      <td>NaN</td>\n",
       "      <td>NaN</td>\n",
       "      <td>NaN</td>\n",
       "      <td>NaN</td>\n",
       "      <td>NaN</td>\n",
       "      <td>...</td>\n",
       "      <td>NaN</td>\n",
       "      <td>NaN</td>\n",
       "      <td>NaN</td>\n",
       "      <td>NaN</td>\n",
       "      <td>NaN</td>\n",
       "      <td>NaN</td>\n",
       "      <td>NaN</td>\n",
       "      <td>NaN</td>\n",
       "      <td>NaN</td>\n",
       "      <td>NaN</td>\n",
       "    </tr>\n",
       "  </tbody>\n",
       "</table>\n",
       "<p>5 rows × 29 columns</p>\n",
       "</div>"
      ],
      "text/plain": [
       "  Country Name          1990          1991          1992          1993  \\\n",
       "0        Aruba  24101.109429  25870.755945  26533.343900  27430.752401   \n",
       "1  Afghanistan           NaN           NaN           NaN           NaN   \n",
       "2       Angola   3089.683369   3120.356148   2908.160798   2190.768160   \n",
       "3      Albania   2549.464533   1909.107682   1823.301602   2057.442806   \n",
       "4      Andorra           NaN           NaN           NaN           NaN   \n",
       "\n",
       "           1994          1995          1996          1997          1998  ...  \\\n",
       "0  28656.520214  28648.990021  28499.089435  30215.949227  30512.683909  ...   \n",
       "1           NaN           NaN           NaN           NaN           NaN  ...   \n",
       "2   2195.532289   2496.199493   2794.896906   2953.342709   3027.341795  ...   \n",
       "3   2289.865511   2665.756031   2980.056366   2717.353077   3021.015350  ...   \n",
       "4           NaN           NaN           NaN           NaN           NaN  ...   \n",
       "\n",
       "           2008          2009          2010          2011          2012  \\\n",
       "0  38515.263797  34693.086745  33732.847450  35492.618487  35498.982089   \n",
       "1   1218.118215   1454.663015   1637.377987   1626.764793   1806.763930   \n",
       "2   6221.423373   6092.783245   6230.297028   6346.395122   6772.528333   \n",
       "3   8228.364871   8814.834988   9628.003545  10207.753519  10526.255328   \n",
       "4           NaN           NaN           NaN           NaN           NaN   \n",
       "\n",
       "           2013          2014          2015          2016          2017  \n",
       "0  37419.892817  38223.372261  38249.054869  38390.271649  39454.629831  \n",
       "1   1874.765634   1897.525938   1886.692977   1896.992520   1934.636754  \n",
       "2   6980.423038   7199.245478   7096.600615   6756.935074   6650.584940  \n",
       "3  10571.007488  11259.289824  11662.044933  11868.211515  12930.067676  \n",
       "4           NaN           NaN           NaN           NaN           NaN  \n",
       "\n",
       "[5 rows x 29 columns]"
      ]
     },
     "execution_count": 6,
     "metadata": {},
     "output_type": "execute_result"
    }
   ],
   "source": [
    "GDP = gdp.drop(labels=['Country Code', '2018'], axis=1)\n",
    "GDP.head()"
   ]
  },
  {
   "cell_type": "code",
   "execution_count": 7,
   "metadata": {},
   "outputs": [],
   "source": [
    "GDP.rename(columns={'Country Name':'country_name'},  inplace=True)"
   ]
  },
  {
   "cell_type": "code",
   "execution_count": 8,
   "metadata": {},
   "outputs": [],
   "source": [
    "emission.reset_index(level=0,inplace=True)"
   ]
  },
  {
   "cell_type": "markdown",
   "metadata": {},
   "source": [
    "### Missing value analysis"
   ]
  },
  {
   "cell_type": "markdown",
   "metadata": {},
   "source": [
    "We are droping the row if there is any missing value as NaN contain"
   ]
  },
  {
   "cell_type": "code",
   "execution_count": 9,
   "metadata": {},
   "outputs": [],
   "source": [
    "GDP.dropna(axis=0,how='any', inplace=True)\n",
    "emission.dropna(axis=0, how='any', inplace=True)"
   ]
  },
  {
   "cell_type": "code",
   "execution_count": 10,
   "metadata": {},
   "outputs": [
    {
     "data": {
      "text/plain": [
       "True     157\n",
       "False     48\n",
       "Name: country_name, dtype: int64"
      ]
     },
     "execution_count": 10,
     "metadata": {},
     "output_type": "execute_result"
    }
   ],
   "source": [
    "# check how many common countrpresent in these datasets\n",
    "emission['country_name'].isin(GDP['country_name']).value_counts()"
   ]
  },
  {
   "cell_type": "markdown",
   "metadata": {},
   "source": [
    "### Merging of the dataframe "
   ]
  },
  {
   "cell_type": "markdown",
   "metadata": {},
   "source": [
    "Using the country name common in both dataframe so we use inner joinmethod to merge two dataframe."
   ]
  },
  {
   "cell_type": "code",
   "execution_count": 11,
   "metadata": {},
   "outputs": [],
   "source": [
    "df_inner = pd.merge(emission, GDP, on='country_name', how='inner')  "
   ]
  },
  {
   "cell_type": "markdown",
   "metadata": {},
   "source": [
    "Further we merge another dataframe as power_cosumption per capita of each country"
   ]
  },
  {
   "cell_type": "code",
   "execution_count": 12,
   "metadata": {},
   "outputs": [
    {
     "data": {
      "text/html": [
       "<div>\n",
       "<style scoped>\n",
       "    .dataframe tbody tr th:only-of-type {\n",
       "        vertical-align: middle;\n",
       "    }\n",
       "\n",
       "    .dataframe tbody tr th {\n",
       "        vertical-align: top;\n",
       "    }\n",
       "\n",
       "    .dataframe thead th {\n",
       "        text-align: right;\n",
       "    }\n",
       "</style>\n",
       "<table border=\"1\" class=\"dataframe\">\n",
       "  <thead>\n",
       "    <tr style=\"text-align: right;\">\n",
       "      <th></th>\n",
       "      <th>Country Code</th>\n",
       "      <th>1960</th>\n",
       "      <th>1961</th>\n",
       "      <th>1962</th>\n",
       "      <th>1963</th>\n",
       "      <th>1964</th>\n",
       "      <th>1965</th>\n",
       "      <th>1966</th>\n",
       "      <th>1967</th>\n",
       "      <th>1968</th>\n",
       "      <th>...</th>\n",
       "      <th>2009</th>\n",
       "      <th>2010</th>\n",
       "      <th>2011</th>\n",
       "      <th>2012</th>\n",
       "      <th>2013</th>\n",
       "      <th>2014</th>\n",
       "      <th>2015</th>\n",
       "      <th>2016</th>\n",
       "      <th>2017</th>\n",
       "      <th>2018</th>\n",
       "    </tr>\n",
       "    <tr>\n",
       "      <th>Country Name</th>\n",
       "      <th></th>\n",
       "      <th></th>\n",
       "      <th></th>\n",
       "      <th></th>\n",
       "      <th></th>\n",
       "      <th></th>\n",
       "      <th></th>\n",
       "      <th></th>\n",
       "      <th></th>\n",
       "      <th></th>\n",
       "      <th></th>\n",
       "      <th></th>\n",
       "      <th></th>\n",
       "      <th></th>\n",
       "      <th></th>\n",
       "      <th></th>\n",
       "      <th></th>\n",
       "      <th></th>\n",
       "      <th></th>\n",
       "      <th></th>\n",
       "      <th></th>\n",
       "    </tr>\n",
       "  </thead>\n",
       "  <tbody>\n",
       "    <tr>\n",
       "      <th>Aruba</th>\n",
       "      <td>ABW</td>\n",
       "      <td>NaN</td>\n",
       "      <td>NaN</td>\n",
       "      <td>NaN</td>\n",
       "      <td>NaN</td>\n",
       "      <td>NaN</td>\n",
       "      <td>NaN</td>\n",
       "      <td>NaN</td>\n",
       "      <td>NaN</td>\n",
       "      <td>NaN</td>\n",
       "      <td>...</td>\n",
       "      <td>NaN</td>\n",
       "      <td>NaN</td>\n",
       "      <td>NaN</td>\n",
       "      <td>NaN</td>\n",
       "      <td>NaN</td>\n",
       "      <td>NaN</td>\n",
       "      <td>NaN</td>\n",
       "      <td>NaN</td>\n",
       "      <td>NaN</td>\n",
       "      <td>NaN</td>\n",
       "    </tr>\n",
       "    <tr>\n",
       "      <th>Afghanistan</th>\n",
       "      <td>AFG</td>\n",
       "      <td>NaN</td>\n",
       "      <td>NaN</td>\n",
       "      <td>NaN</td>\n",
       "      <td>NaN</td>\n",
       "      <td>NaN</td>\n",
       "      <td>NaN</td>\n",
       "      <td>NaN</td>\n",
       "      <td>NaN</td>\n",
       "      <td>NaN</td>\n",
       "      <td>...</td>\n",
       "      <td>NaN</td>\n",
       "      <td>NaN</td>\n",
       "      <td>NaN</td>\n",
       "      <td>NaN</td>\n",
       "      <td>NaN</td>\n",
       "      <td>NaN</td>\n",
       "      <td>NaN</td>\n",
       "      <td>NaN</td>\n",
       "      <td>NaN</td>\n",
       "      <td>NaN</td>\n",
       "    </tr>\n",
       "    <tr>\n",
       "      <th>Angola</th>\n",
       "      <td>AGO</td>\n",
       "      <td>NaN</td>\n",
       "      <td>NaN</td>\n",
       "      <td>NaN</td>\n",
       "      <td>NaN</td>\n",
       "      <td>NaN</td>\n",
       "      <td>NaN</td>\n",
       "      <td>NaN</td>\n",
       "      <td>NaN</td>\n",
       "      <td>NaN</td>\n",
       "      <td>...</td>\n",
       "      <td>189.257654</td>\n",
       "      <td>206.454411</td>\n",
       "      <td>207.013343</td>\n",
       "      <td>219.253430</td>\n",
       "      <td>280.214547</td>\n",
       "      <td>312.228825</td>\n",
       "      <td>NaN</td>\n",
       "      <td>NaN</td>\n",
       "      <td>NaN</td>\n",
       "      <td>NaN</td>\n",
       "    </tr>\n",
       "    <tr>\n",
       "      <th>Albania</th>\n",
       "      <td>ALB</td>\n",
       "      <td>NaN</td>\n",
       "      <td>NaN</td>\n",
       "      <td>NaN</td>\n",
       "      <td>NaN</td>\n",
       "      <td>NaN</td>\n",
       "      <td>NaN</td>\n",
       "      <td>NaN</td>\n",
       "      <td>NaN</td>\n",
       "      <td>NaN</td>\n",
       "      <td>...</td>\n",
       "      <td>1835.684072</td>\n",
       "      <td>1943.343354</td>\n",
       "      <td>2205.703920</td>\n",
       "      <td>2118.327776</td>\n",
       "      <td>2533.252829</td>\n",
       "      <td>2309.366503</td>\n",
       "      <td>NaN</td>\n",
       "      <td>NaN</td>\n",
       "      <td>NaN</td>\n",
       "      <td>NaN</td>\n",
       "    </tr>\n",
       "    <tr>\n",
       "      <th>Andorra</th>\n",
       "      <td>AND</td>\n",
       "      <td>NaN</td>\n",
       "      <td>NaN</td>\n",
       "      <td>NaN</td>\n",
       "      <td>NaN</td>\n",
       "      <td>NaN</td>\n",
       "      <td>NaN</td>\n",
       "      <td>NaN</td>\n",
       "      <td>NaN</td>\n",
       "      <td>NaN</td>\n",
       "      <td>...</td>\n",
       "      <td>NaN</td>\n",
       "      <td>NaN</td>\n",
       "      <td>NaN</td>\n",
       "      <td>NaN</td>\n",
       "      <td>NaN</td>\n",
       "      <td>NaN</td>\n",
       "      <td>NaN</td>\n",
       "      <td>NaN</td>\n",
       "      <td>NaN</td>\n",
       "      <td>NaN</td>\n",
       "    </tr>\n",
       "  </tbody>\n",
       "</table>\n",
       "<p>5 rows × 60 columns</p>\n",
       "</div>"
      ],
      "text/plain": [
       "             Country Code  1960  1961  1962  1963  1964  1965  1966  1967  \\\n",
       "Country Name                                                                \n",
       "Aruba                 ABW   NaN   NaN   NaN   NaN   NaN   NaN   NaN   NaN   \n",
       "Afghanistan           AFG   NaN   NaN   NaN   NaN   NaN   NaN   NaN   NaN   \n",
       "Angola                AGO   NaN   NaN   NaN   NaN   NaN   NaN   NaN   NaN   \n",
       "Albania               ALB   NaN   NaN   NaN   NaN   NaN   NaN   NaN   NaN   \n",
       "Andorra               AND   NaN   NaN   NaN   NaN   NaN   NaN   NaN   NaN   \n",
       "\n",
       "              1968  ...         2009         2010         2011         2012  \\\n",
       "Country Name        ...                                                       \n",
       "Aruba          NaN  ...          NaN          NaN          NaN          NaN   \n",
       "Afghanistan    NaN  ...          NaN          NaN          NaN          NaN   \n",
       "Angola         NaN  ...   189.257654   206.454411   207.013343   219.253430   \n",
       "Albania        NaN  ...  1835.684072  1943.343354  2205.703920  2118.327776   \n",
       "Andorra        NaN  ...          NaN          NaN          NaN          NaN   \n",
       "\n",
       "                     2013         2014  2015  2016  2017  2018  \n",
       "Country Name                                                    \n",
       "Aruba                 NaN          NaN   NaN   NaN   NaN   NaN  \n",
       "Afghanistan           NaN          NaN   NaN   NaN   NaN   NaN  \n",
       "Angola         280.214547   312.228825   NaN   NaN   NaN   NaN  \n",
       "Albania       2533.252829  2309.366503   NaN   NaN   NaN   NaN  \n",
       "Andorra               NaN          NaN   NaN   NaN   NaN   NaN  \n",
       "\n",
       "[5 rows x 60 columns]"
      ]
     },
     "execution_count": 12,
     "metadata": {},
     "output_type": "execute_result"
    }
   ],
   "source": [
    "power_consumption = pd.read_excel('electric_power_consumption_per_capita.xls', index_col=0)\n",
    "power_consumption.head()"
   ]
  },
  {
   "cell_type": "code",
   "execution_count": 13,
   "metadata": {},
   "outputs": [],
   "source": [
    "power_consumption.drop(labels='Country Code', axis=1, inplace=True)"
   ]
  },
  {
   "cell_type": "code",
   "execution_count": 14,
   "metadata": {},
   "outputs": [],
   "source": [
    "power_consumption.dropna(axis=0, how='all', inplace=True)"
   ]
  },
  {
   "cell_type": "markdown",
   "metadata": {},
   "source": [
    "To fill missing value of this dataframe we use imputer function with median of the respective observation."
   ]
  },
  {
   "cell_type": "code",
   "execution_count": 15,
   "metadata": {},
   "outputs": [],
   "source": [
    "from sklearn.impute import SimpleImputer"
   ]
  },
  {
   "cell_type": "code",
   "execution_count": 16,
   "metadata": {},
   "outputs": [],
   "source": [
    "imp = SimpleImputer(missing_values=np.nan, strategy='median')\n",
    "consumption = pd.DataFrame(imp.fit_transform(power_consumption.T))\n",
    "consumption.columns = power_consumption.T.columns\n",
    "consumption.index = power_consumption.T.index"
   ]
  },
  {
   "cell_type": "code",
   "execution_count": 17,
   "metadata": {},
   "outputs": [],
   "source": [
    "consumption = consumption.T"
   ]
  },
  {
   "cell_type": "code",
   "execution_count": 18,
   "metadata": {},
   "outputs": [],
   "source": [
    "consumption.reset_index(level=0,inplace=True)\n",
    "consumption.rename(columns={'Country Name':'country_name'},  inplace=True)"
   ]
  },
  {
   "cell_type": "markdown",
   "metadata": {},
   "source": [
    "Since there is most recent year common in this dataframe is 2014 son we are doing analysis using those recent year data. "
   ]
  },
  {
   "cell_type": "code",
   "execution_count": 19,
   "metadata": {},
   "outputs": [],
   "source": [
    "df1= df_inner[['country_name',2014,'2014']]\n",
    "consumption1 = consumption[['country_name', '2014']]\n",
    "df_2 = pd.merge(df1, consumption1, on='country_name', how='inner')  "
   ]
  },
  {
   "cell_type": "code",
   "execution_count": 20,
   "metadata": {},
   "outputs": [
    {
     "data": {
      "text/html": [
       "<div>\n",
       "<style scoped>\n",
       "    .dataframe tbody tr th:only-of-type {\n",
       "        vertical-align: middle;\n",
       "    }\n",
       "\n",
       "    .dataframe tbody tr th {\n",
       "        vertical-align: top;\n",
       "    }\n",
       "\n",
       "    .dataframe thead th {\n",
       "        text-align: right;\n",
       "    }\n",
       "</style>\n",
       "<table border=\"1\" class=\"dataframe\">\n",
       "  <thead>\n",
       "    <tr style=\"text-align: right;\">\n",
       "      <th></th>\n",
       "      <th>country_name</th>\n",
       "      <th>2014</th>\n",
       "      <th>2014_x</th>\n",
       "      <th>2014_y</th>\n",
       "    </tr>\n",
       "  </thead>\n",
       "  <tbody>\n",
       "    <tr>\n",
       "      <th>0</th>\n",
       "      <td>Albania</td>\n",
       "      <td>5.7122</td>\n",
       "      <td>11259.289824</td>\n",
       "      <td>2309.366503</td>\n",
       "    </tr>\n",
       "    <tr>\n",
       "      <th>1</th>\n",
       "      <td>Algeria</td>\n",
       "      <td>143.1771</td>\n",
       "      <td>14317.042718</td>\n",
       "      <td>1362.871919</td>\n",
       "    </tr>\n",
       "    <tr>\n",
       "      <th>2</th>\n",
       "      <td>Angola</td>\n",
       "      <td>34.4576</td>\n",
       "      <td>7199.245478</td>\n",
       "      <td>312.228825</td>\n",
       "    </tr>\n",
       "    <tr>\n",
       "      <th>3</th>\n",
       "      <td>Argentina</td>\n",
       "      <td>202.6715</td>\n",
       "      <td>20008.320644</td>\n",
       "      <td>3074.702071</td>\n",
       "    </tr>\n",
       "    <tr>\n",
       "      <th>4</th>\n",
       "      <td>Armenia</td>\n",
       "      <td>5.5814</td>\n",
       "      <td>8405.073655</td>\n",
       "      <td>1961.610395</td>\n",
       "    </tr>\n",
       "  </tbody>\n",
       "</table>\n",
       "</div>"
      ],
      "text/plain": [
       "  country_name      2014        2014_x       2014_y\n",
       "0      Albania    5.7122  11259.289824  2309.366503\n",
       "1      Algeria  143.1771  14317.042718  1362.871919\n",
       "2       Angola   34.4576   7199.245478   312.228825\n",
       "3    Argentina  202.6715  20008.320644  3074.702071\n",
       "4      Armenia    5.5814   8405.073655  1961.610395"
      ]
     },
     "execution_count": 20,
     "metadata": {},
     "output_type": "execute_result"
    }
   ],
   "source": [
    "df_2.head()"
   ]
  },
  {
   "cell_type": "code",
   "execution_count": 21,
   "metadata": {
    "scrolled": false
   },
   "outputs": [
    {
     "data": {
      "text/html": [
       "<div>\n",
       "<style scoped>\n",
       "    .dataframe tbody tr th:only-of-type {\n",
       "        vertical-align: middle;\n",
       "    }\n",
       "\n",
       "    .dataframe tbody tr th {\n",
       "        vertical-align: top;\n",
       "    }\n",
       "\n",
       "    .dataframe thead th {\n",
       "        text-align: right;\n",
       "    }\n",
       "</style>\n",
       "<table border=\"1\" class=\"dataframe\">\n",
       "  <thead>\n",
       "    <tr style=\"text-align: right;\">\n",
       "      <th></th>\n",
       "      <th>country_name</th>\n",
       "      <th>CO2_emission</th>\n",
       "      <th>gdp_per_capita</th>\n",
       "      <th>power_consumption</th>\n",
       "    </tr>\n",
       "  </thead>\n",
       "  <tbody>\n",
       "    <tr>\n",
       "      <th>0</th>\n",
       "      <td>Albania</td>\n",
       "      <td>5.7122</td>\n",
       "      <td>11259.289824</td>\n",
       "      <td>2309.366503</td>\n",
       "    </tr>\n",
       "    <tr>\n",
       "      <th>1</th>\n",
       "      <td>Algeria</td>\n",
       "      <td>143.1771</td>\n",
       "      <td>14317.042718</td>\n",
       "      <td>1362.871919</td>\n",
       "    </tr>\n",
       "    <tr>\n",
       "      <th>2</th>\n",
       "      <td>Angola</td>\n",
       "      <td>34.4576</td>\n",
       "      <td>7199.245478</td>\n",
       "      <td>312.228825</td>\n",
       "    </tr>\n",
       "    <tr>\n",
       "      <th>3</th>\n",
       "      <td>Argentina</td>\n",
       "      <td>202.6715</td>\n",
       "      <td>20008.320644</td>\n",
       "      <td>3074.702071</td>\n",
       "    </tr>\n",
       "    <tr>\n",
       "      <th>4</th>\n",
       "      <td>Armenia</td>\n",
       "      <td>5.5814</td>\n",
       "      <td>8405.073655</td>\n",
       "      <td>1961.610395</td>\n",
       "    </tr>\n",
       "  </tbody>\n",
       "</table>\n",
       "</div>"
      ],
      "text/plain": [
       "  country_name  CO2_emission  gdp_per_capita  power_consumption\n",
       "0      Albania        5.7122    11259.289824        2309.366503\n",
       "1      Algeria      143.1771    14317.042718        1362.871919\n",
       "2       Angola       34.4576     7199.245478         312.228825\n",
       "3    Argentina      202.6715    20008.320644        3074.702071\n",
       "4      Armenia        5.5814     8405.073655        1961.610395"
      ]
     },
     "execution_count": 21,
     "metadata": {},
     "output_type": "execute_result"
    }
   ],
   "source": [
    "df_2.rename(columns={2014:'CO2_emission', '2014_x':'gdp_per_capita', '2014_y':'power_consumption'},  inplace=True)\n",
    "df_2.head()"
   ]
  },
  {
   "cell_type": "code",
   "execution_count": 22,
   "metadata": {
    "scrolled": true
   },
   "outputs": [
    {
     "data": {
      "text/html": [
       "<div>\n",
       "<style scoped>\n",
       "    .dataframe tbody tr th:only-of-type {\n",
       "        vertical-align: middle;\n",
       "    }\n",
       "\n",
       "    .dataframe tbody tr th {\n",
       "        vertical-align: top;\n",
       "    }\n",
       "\n",
       "    .dataframe thead th {\n",
       "        text-align: right;\n",
       "    }\n",
       "</style>\n",
       "<table border=\"1\" class=\"dataframe\">\n",
       "  <thead>\n",
       "    <tr style=\"text-align: right;\">\n",
       "      <th></th>\n",
       "      <th>CO2_emission</th>\n",
       "      <th>gdp_per_capita</th>\n",
       "      <th>power_consumption</th>\n",
       "    </tr>\n",
       "  </thead>\n",
       "  <tbody>\n",
       "    <tr>\n",
       "      <th>count</th>\n",
       "      <td>117.00000</td>\n",
       "      <td>117.000000</td>\n",
       "      <td>117.000000</td>\n",
       "    </tr>\n",
       "    <tr>\n",
       "      <th>mean</th>\n",
       "      <td>277.93276</td>\n",
       "      <td>21922.723721</td>\n",
       "      <td>4254.932856</td>\n",
       "    </tr>\n",
       "    <tr>\n",
       "      <th>std</th>\n",
       "      <td>1066.31233</td>\n",
       "      <td>20179.338844</td>\n",
       "      <td>6270.547907</td>\n",
       "    </tr>\n",
       "    <tr>\n",
       "      <th>min</th>\n",
       "      <td>1.97580</td>\n",
       "      <td>829.362646</td>\n",
       "      <td>39.055805</td>\n",
       "    </tr>\n",
       "    <tr>\n",
       "      <th>25%</th>\n",
       "      <td>8.79080</td>\n",
       "      <td>6017.671947</td>\n",
       "      <td>742.538400</td>\n",
       "    </tr>\n",
       "    <tr>\n",
       "      <th>50%</th>\n",
       "      <td>39.23780</td>\n",
       "      <td>15144.545446</td>\n",
       "      <td>2309.366503</td>\n",
       "    </tr>\n",
       "    <tr>\n",
       "      <th>75%</th>\n",
       "      <td>159.71240</td>\n",
       "      <td>33370.475164</td>\n",
       "      <td>5672.064134</td>\n",
       "    </tr>\n",
       "    <tr>\n",
       "      <th>max</th>\n",
       "      <td>9820.36050</td>\n",
       "      <td>101297.575745</td>\n",
       "      <td>53832.479092</td>\n",
       "    </tr>\n",
       "  </tbody>\n",
       "</table>\n",
       "</div>"
      ],
      "text/plain": [
       "       CO2_emission  gdp_per_capita  power_consumption\n",
       "count     117.00000      117.000000         117.000000\n",
       "mean      277.93276    21922.723721        4254.932856\n",
       "std      1066.31233    20179.338844        6270.547907\n",
       "min         1.97580      829.362646          39.055805\n",
       "25%         8.79080     6017.671947         742.538400\n",
       "50%        39.23780    15144.545446        2309.366503\n",
       "75%       159.71240    33370.475164        5672.064134\n",
       "max      9820.36050   101297.575745       53832.479092"
      ]
     },
     "execution_count": 22,
     "metadata": {},
     "output_type": "execute_result"
    }
   ],
   "source": [
    "df_2.describe() # using describe function we can check some statical feature of these dataframe "
   ]
  },
  {
   "cell_type": "markdown",
   "metadata": {},
   "source": [
    "### Exploratory Data Analysis (EDA)"
   ]
  },
  {
   "cell_type": "code",
   "execution_count": 23,
   "metadata": {},
   "outputs": [
    {
     "data": {
      "text/plain": [
       "Text(0.5, 0.98, 'Pairplot Before transformation')"
      ]
     },
     "execution_count": 23,
     "metadata": {},
     "output_type": "execute_result"
    },
    {
     "data": {
      "image/png": "[encoded data removed]",
      "text/plain": [
       "<Figure size 540x540 with 12 Axes>"
      ]
     },
     "metadata": {
      "needs_background": "light"
     },
     "output_type": "display_data"
    }
   ],
   "source": [
    "plot = sns.pairplot(df_2[['CO2_emission', 'gdp_per_capita', 'power_consumption']])\n",
    "plot.fig.suptitle(\"Pairplot Before transformation\",fontsize=15)"
   ]
  },
  {
   "cell_type": "code",
   "execution_count": 24,
   "metadata": {
    "scrolled": true
   },
   "outputs": [
    {
     "data": {
      "text/plain": [
       "CO2_emission         7.427636\n",
       "gdp_per_capita       1.396153\n",
       "power_consumption    4.842872\n",
       "dtype: float64"
      ]
     },
     "execution_count": 24,
     "metadata": {},
     "output_type": "execute_result"
    }
   ],
   "source": [
    "df_2.skew() #  skewness of each features"
   ]
  },
  {
   "cell_type": "code",
   "execution_count": 25,
   "metadata": {},
   "outputs": [],
   "source": [
    "df_2['log_gdp'] = np.log10(df_2['gdp_per_capita'])\n",
    "df_2['log_power_consumption'] = np.log10(df_2['power_consumption'])\n",
    "df_2['log_emission']= np.log10(df_2['CO2_emission'])"
   ]
  },
  {
   "cell_type": "code",
   "execution_count": 26,
   "metadata": {},
   "outputs": [
    {
     "data": {
      "text/html": [
       "<div>\n",
       "<style scoped>\n",
       "    .dataframe tbody tr th:only-of-type {\n",
       "        vertical-align: middle;\n",
       "    }\n",
       "\n",
       "    .dataframe tbody tr th {\n",
       "        vertical-align: top;\n",
       "    }\n",
       "\n",
       "    .dataframe thead th {\n",
       "        text-align: right;\n",
       "    }\n",
       "</style>\n",
       "<table border=\"1\" class=\"dataframe\">\n",
       "  <thead>\n",
       "    <tr style=\"text-align: right;\">\n",
       "      <th></th>\n",
       "      <th>country_name</th>\n",
       "      <th>CO2_emission</th>\n",
       "      <th>gdp_per_capita</th>\n",
       "      <th>power_consumption</th>\n",
       "      <th>log_gdp</th>\n",
       "      <th>log_power_consumption</th>\n",
       "      <th>log_emission</th>\n",
       "    </tr>\n",
       "  </thead>\n",
       "  <tbody>\n",
       "    <tr>\n",
       "      <th>0</th>\n",
       "      <td>Albania</td>\n",
       "      <td>5.7122</td>\n",
       "      <td>11259.289824</td>\n",
       "      <td>2309.366503</td>\n",
       "      <td>4.051511</td>\n",
       "      <td>3.363493</td>\n",
       "      <td>0.756803</td>\n",
       "    </tr>\n",
       "    <tr>\n",
       "      <th>1</th>\n",
       "      <td>Algeria</td>\n",
       "      <td>143.1771</td>\n",
       "      <td>14317.042718</td>\n",
       "      <td>1362.871919</td>\n",
       "      <td>4.155853</td>\n",
       "      <td>3.134455</td>\n",
       "      <td>2.155874</td>\n",
       "    </tr>\n",
       "    <tr>\n",
       "      <th>2</th>\n",
       "      <td>Angola</td>\n",
       "      <td>34.4576</td>\n",
       "      <td>7199.245478</td>\n",
       "      <td>312.228825</td>\n",
       "      <td>3.857287</td>\n",
       "      <td>2.494473</td>\n",
       "      <td>1.537285</td>\n",
       "    </tr>\n",
       "    <tr>\n",
       "      <th>3</th>\n",
       "      <td>Argentina</td>\n",
       "      <td>202.6715</td>\n",
       "      <td>20008.320644</td>\n",
       "      <td>3074.702071</td>\n",
       "      <td>4.301211</td>\n",
       "      <td>3.487803</td>\n",
       "      <td>2.306793</td>\n",
       "    </tr>\n",
       "    <tr>\n",
       "      <th>4</th>\n",
       "      <td>Armenia</td>\n",
       "      <td>5.5814</td>\n",
       "      <td>8405.073655</td>\n",
       "      <td>1961.610395</td>\n",
       "      <td>3.924542</td>\n",
       "      <td>3.292613</td>\n",
       "      <td>0.746743</td>\n",
       "    </tr>\n",
       "  </tbody>\n",
       "</table>\n",
       "</div>"
      ],
      "text/plain": [
       "  country_name  CO2_emission  gdp_per_capita  power_consumption   log_gdp  \\\n",
       "0      Albania        5.7122    11259.289824        2309.366503  4.051511   \n",
       "1      Algeria      143.1771    14317.042718        1362.871919  4.155853   \n",
       "2       Angola       34.4576     7199.245478         312.228825  3.857287   \n",
       "3    Argentina      202.6715    20008.320644        3074.702071  4.301211   \n",
       "4      Armenia        5.5814     8405.073655        1961.610395  3.924542   \n",
       "\n",
       "   log_power_consumption  log_emission  \n",
       "0               3.363493      0.756803  \n",
       "1               3.134455      2.155874  \n",
       "2               2.494473      1.537285  \n",
       "3               3.487803      2.306793  \n",
       "4               3.292613      0.746743  "
      ]
     },
     "execution_count": 26,
     "metadata": {},
     "output_type": "execute_result"
    }
   ],
   "source": [
    "df_2.head()"
   ]
  },
  {
   "cell_type": "code",
   "execution_count": 27,
   "metadata": {},
   "outputs": [
    {
     "data": {
      "text/plain": [
       "Text(0.5, 0.98, 'Pairplot After transformation')"
      ]
     },
     "execution_count": 27,
     "metadata": {},
     "output_type": "execute_result"
    },
    {
     "data": {
      "image/png": "[encoded data removed]",
      "text/plain": [
       "<Figure size 540x540 with 12 Axes>"
      ]
     },
     "metadata": {
      "needs_background": "light"
     },
     "output_type": "display_data"
    }
   ],
   "source": [
    "plot = sns.pairplot(df_2[['log_emission', 'log_gdp', 'log_power_consumption']])\n",
    "plot.fig.suptitle(\"Pairplot After transformation\",fontsize=15)"
   ]
  },
  {
   "cell_type": "code",
   "execution_count": 28,
   "metadata": {},
   "outputs": [
    {
     "data": {
      "text/plain": [
       "CO2_emission             7.427636\n",
       "gdp_per_capita           1.396153\n",
       "power_consumption        4.842872\n",
       "log_gdp                 -0.438877\n",
       "log_power_consumption   -0.555632\n",
       "log_emission             0.499413\n",
       "dtype: float64"
      ]
     },
     "execution_count": 28,
     "metadata": {},
     "output_type": "execute_result"
    }
   ],
   "source": [
    "df_2.skew()"
   ]
  },
  {
   "cell_type": "code",
   "execution_count": 29,
   "metadata": {},
   "outputs": [
    {
     "data": {
      "text/plain": [
       "<matplotlib.axes._subplots.AxesSubplot at 0x2cb91f0c9e8>"
      ]
     },
     "execution_count": 29,
     "metadata": {},
     "output_type": "execute_result"
    },
    {
     "data": {
      "image/png": "[encoded data removed]",
      "text/plain": [
       "<Figure size 432x288 with 1 Axes>"
      ]
     },
     "metadata": {
      "needs_background": "light"
     },
     "output_type": "display_data"
    }
   ],
   "source": [
    "sns.boxplot(x=df_2['gdp_per_capita'])"
   ]
  },
  {
   "cell_type": "markdown",
   "metadata": {},
   "source": [
    "As we noticed that there is positively skewed data and also there is some outliers so minimise the effect of the ouliers we take do log transformation method on each numeric feature.  "
   ]
  },
  {
   "cell_type": "code",
   "execution_count": 30,
   "metadata": {
    "scrolled": true
   },
   "outputs": [
    {
     "data": {
      "text/plain": [
       "<matplotlib.axes._subplots.AxesSubplot at 0x2cb92ea85c0>"
      ]
     },
     "execution_count": 30,
     "metadata": {},
     "output_type": "execute_result"
    },
    {
     "data": {
      "image/png": "[encoded data removed]",
      "text/plain": [
       "<Figure size 432x288 with 1 Axes>"
      ]
     },
     "metadata": {
      "needs_background": "light"
     },
     "output_type": "display_data"
    }
   ],
   "source": [
    "sns.boxplot(x=df_2['log_gdp']) # after transforming the data using log with base 10"
   ]
  },
  {
   "cell_type": "code",
   "execution_count": 31,
   "metadata": {
    "scrolled": false
   },
   "outputs": [
    {
     "data": {
      "text/plain": [
       "<matplotlib.axes._subplots.AxesSubplot at 0x2cb92ee69b0>"
      ]
     },
     "execution_count": 31,
     "metadata": {},
     "output_type": "execute_result"
    },
    {
     "data": {
      "image/png": "[encoded data removed]",
      "text/plain": [
       "<Figure size 432x288 with 1 Axes>"
      ]
     },
     "metadata": {
      "needs_background": "light"
     },
     "output_type": "display_data"
    }
   ],
   "source": [
    "sns.boxplot(x=df_2['CO2_emission'])"
   ]
  },
  {
   "cell_type": "code",
   "execution_count": 32,
   "metadata": {},
   "outputs": [
    {
     "data": {
      "text/plain": [
       "<matplotlib.axes._subplots.AxesSubplot at 0x2cb92f42f28>"
      ]
     },
     "execution_count": 32,
     "metadata": {},
     "output_type": "execute_result"
    },
    {
     "data": {
      "image/png": "[encoded data removed]",
      "text/plain": [
       "<Figure size 432x288 with 1 Axes>"
      ]
     },
     "metadata": {
      "needs_background": "light"
     },
     "output_type": "display_data"
    }
   ],
   "source": [
    "sns.boxplot(x=df_2['log_emission'])"
   ]
  },
  {
   "cell_type": "markdown",
   "metadata": {},
   "source": [
    "### Inferential Statistical  Testing "
   ]
  },
  {
   "cell_type": "code",
   "execution_count": 33,
   "metadata": {},
   "outputs": [
    {
     "name": "stdout",
     "output_type": "stream",
     "text": [
      "Pearson Correlatin Coefficient 0.068\n"
     ]
    }
   ],
   "source": [
    "from scipy.stats.stats import pearsonr\n",
    "emission = df_2['CO2_emission']\n",
    "gdp = df_2['gdp_per_capita']\n",
    "\n",
    "\n",
    "pearsonr_coefficient, p_value = pearsonr(gdp, emission)\n",
    "print(\"Pearson Correlatin Coefficient %.3f\" %pearsonr_coefficient)"
   ]
  },
  {
   "cell_type": "code",
   "execution_count": 34,
   "metadata": {},
   "outputs": [
    {
     "name": "stdout",
     "output_type": "stream",
     "text": [
      "Pearson Correlatin Coefficient 0.432\n"
     ]
    }
   ],
   "source": [
    "emission = df_2['log_emission']\n",
    "gdp = df_2['log_gdp']\n",
    "\n",
    "\n",
    "pearsonr_coefficient, p_value = pearsonr(emission, gdp)\n",
    "print(\"Pearson Correlatin Coefficient %.3f\" %pearsonr_coefficient)"
   ]
  },
  {
   "cell_type": "code",
   "execution_count": 36,
   "metadata": {},
   "outputs": [
    {
     "data": {
      "text/plain": [
       "<matplotlib.axes._subplots.AxesSubplot at 0x2cb930e64e0>"
      ]
     },
     "execution_count": 36,
     "metadata": {},
     "output_type": "execute_result"
    },
    {
     "data": {
      "image/png": "[encoded data removed]",
      "text/plain": [
       "<Figure size 648x576 with 2 Axes>"
      ]
     },
     "metadata": {
      "needs_background": "light"
     },
     "output_type": "display_data"
    }
   ],
   "source": [
    "import matplotlib.pyplot as plt \n",
    "%matplotlib inline\n",
    "corr_matrix = df_2.iloc[:, 1:4].corr() \n",
    "  \n",
    "f, ax = plt.subplots(figsize =(9, 8)) \n",
    "sns.heatmap(corr_matrix, ax = ax, cmap =\"YlGnBu\", linewidths = 0.1,annot=True) "
   ]
  },
  {
   "cell_type": "code",
   "execution_count": 37,
   "metadata": {},
   "outputs": [
    {
     "data": {
      "text/plain": [
       "<matplotlib.axes._subplots.AxesSubplot at 0x2cb93278208>"
      ]
     },
     "execution_count": 37,
     "metadata": {},
     "output_type": "execute_result"
    },
    {
     "data": {
      "image/png": "[encoded data removed]",
      "text/plain": [
       "<Figure size 648x576 with 2 Axes>"
      ]
     },
     "metadata": {
      "needs_background": "light"
     },
     "output_type": "display_data"
    }
   ],
   "source": [
    "corr_matrix =  df_2.iloc[:, 4:].corr()\n",
    "f, ax = plt.subplots(figsize =(9, 8)) \n",
    "sns.heatmap(corr_matrix, ax = ax, cmap =\"YlGnBu\", linewidths = 0.1, annot=True) "
   ]
  },
  {
   "cell_type": "markdown",
   "metadata": {},
   "source": [
    "### Scale the dataframe"
   ]
  },
  {
   "cell_type": "code",
   "execution_count": 38,
   "metadata": {},
   "outputs": [],
   "source": [
    "from sklearn.preprocessing import StandardScaler , Normalizer,RobustScaler, MinMaxScaler\n",
    "# Initialise the Scaler \n",
    "scaler = StandardScaler() \n",
    "normalizer = Normalizer()\n",
    "robust_scaled = RobustScaler()\n",
    "min_max_scaled = MinMaxScaler()"
   ]
  },
  {
   "cell_type": "code",
   "execution_count": 39,
   "metadata": {},
   "outputs": [],
   "source": [
    "scaled_df = scaler.fit_transform(df_2.iloc[:, 4:7])\n",
    "scaled_df = pd.DataFrame(scaled_df,columns=[\"log_gdp\",\"log_power_consumption\",\"log_emission\"])"
   ]
  },
  {
   "cell_type": "code",
   "execution_count": 40,
   "metadata": {},
   "outputs": [
    {
     "data": {
      "image/png": "[encoded data removed]",
      "text/plain": [
       "<Figure size 1080x360 with 2 Axes>"
      ]
     },
     "metadata": {
      "needs_background": "light"
     },
     "output_type": "display_data"
    }
   ],
   "source": [
    "fig, (ax1, ax2) = plt.subplots(ncols=2, figsize=(15, 5))\n",
    "ax1.set_title('Before Scaler Scaling')\n",
    "sns.kdeplot(df_2['log_gdp'], ax=ax1)\n",
    "sns.kdeplot(df_2['log_power_consumption'], ax=ax1)\n",
    "sns.kdeplot(df_2['log_emission'], ax=ax1)\n",
    "ax2.set_title('After Scaler Scaling')\n",
    "sns.kdeplot(scaled_df['log_gdp'], ax=ax2)\n",
    "sns.kdeplot(scaled_df['log_power_consumption'], ax=ax2)\n",
    "sns.kdeplot(scaled_df['log_emission'], ax=ax2)\n",
    "plt.show()"
   ]
  },
  {
   "cell_type": "markdown",
   "metadata": {},
   "source": [
    "### Modelling "
   ]
  },
  {
   "cell_type": "markdown",
   "metadata": {},
   "source": [
    "#### Linear Regrssion Model  "
   ]
  },
  {
   "cell_type": "code",
   "execution_count": 41,
   "metadata": {},
   "outputs": [],
   "source": [
    "from sklearn.model_selection import train_test_split \n",
    "from sklearn.linear_model import LinearRegression\n",
    "from sklearn import metrics"
   ]
  },
  {
   "cell_type": "code",
   "execution_count": 42,
   "metadata": {},
   "outputs": [],
   "source": [
    "X = df_2[['log_gdp']]\n",
    "y = df_2[['log_emission']]"
   ]
  },
  {
   "cell_type": "code",
   "execution_count": 43,
   "metadata": {},
   "outputs": [],
   "source": [
    "X = scaler.fit_transform(X)\n",
    "y = scaler.fit_transform(y)\n",
    "X_train, X_test, y_train, y_test = train_test_split(X,y, test_size=.2, random_state=20)"
   ]
  },
  {
   "cell_type": "code",
   "execution_count": 44,
   "metadata": {},
   "outputs": [
    {
     "name": "stdout",
     "output_type": "stream",
     "text": [
      "(93, 1)\n",
      "(93, 1)\n",
      "(24, 1)\n",
      "(24, 1)\n"
     ]
    }
   ],
   "source": [
    "print(X_train.shape)\n",
    "print(y_train.shape)\n",
    "print(X_test.shape)\n",
    "print(y_test.shape)"
   ]
  },
  {
   "cell_type": "code",
   "execution_count": 45,
   "metadata": {},
   "outputs": [
    {
     "data": {
      "text/plain": [
       "LinearRegression(copy_X=True, fit_intercept=True, n_jobs=None, normalize=True)"
      ]
     },
     "execution_count": 45,
     "metadata": {},
     "output_type": "execute_result"
    }
   ],
   "source": [
    "regressor = LinearRegression(normalize=True)\n",
    "regressor.fit(X_train, y_train)"
   ]
  },
  {
   "cell_type": "code",
   "execution_count": 46,
   "metadata": {},
   "outputs": [
    {
     "name": "stdout",
     "output_type": "stream",
     "text": [
      "[[0.41632946]]\n",
      "[-0.11648377]\n"
     ]
    }
   ],
   "source": [
    "print(regressor.coef_)\n",
    "print(regressor.intercept_)"
   ]
  },
  {
   "cell_type": "code",
   "execution_count": 47,
   "metadata": {},
   "outputs": [],
   "source": [
    "y_pred = regressor.predict(X_test)"
   ]
  },
  {
   "cell_type": "code",
   "execution_count": 48,
   "metadata": {},
   "outputs": [
    {
     "data": {
      "text/plain": [
       "-0.19273339224856167"
      ]
     },
     "execution_count": 48,
     "metadata": {},
     "output_type": "execute_result"
    }
   ],
   "source": [
    "metrics.r2_score(y_test, y_pred)"
   ]
  },
  {
   "cell_type": "markdown",
   "metadata": {},
   "source": [
    "### Analysis using Ordinary Least Square Method "
   ]
  },
  {
   "cell_type": "code",
   "execution_count": 49,
   "metadata": {},
   "outputs": [],
   "source": [
    "import statsmodels.api as sm"
   ]
  },
  {
   "cell_type": "code",
   "execution_count": 50,
   "metadata": {},
   "outputs": [
    {
     "name": "stdout",
     "output_type": "stream",
     "text": [
      "                            OLS Regression Results                            \n",
      "==============================================================================\n",
      "Dep. Variable:           log_emission   R-squared:                       0.839\n",
      "Model:                            OLS   Adj. R-squared:                  0.838\n",
      "Method:                 Least Squares   F-statistic:                     604.8\n",
      "Date:                Thu, 17 Oct 2019   Prob (F-statistic):           7.81e-48\n",
      "Time:                        21:46:32   Log-Likelihood:                -128.11\n",
      "No. Observations:                 117   AIC:                             258.2\n",
      "Df Residuals:                     116   BIC:                             261.0\n",
      "Df Model:                           1                                         \n",
      "Covariance Type:            nonrobust                                         \n",
      "==============================================================================\n",
      "                 coef    std err          t      P>|t|      [0.025      0.975]\n",
      "------------------------------------------------------------------------------\n",
      "log_gdp        0.3973      0.016     24.592      0.000       0.365       0.429\n",
      "==============================================================================\n",
      "Omnibus:                        6.810   Durbin-Watson:                   1.983\n",
      "Prob(Omnibus):                  0.033   Jarque-Bera (JB):                6.564\n",
      "Skew:                           0.574   Prob(JB):                       0.0375\n",
      "Kurtosis:                       3.170   Cond. No.                         1.00\n",
      "==============================================================================\n",
      "\n",
      "Warnings:\n",
      "[1] Standard Errors assume that the covariance matrix of the errors is correctly specified.\n"
     ]
    }
   ],
   "source": [
    "df_2['const'] = 1\n",
    "reg = sm.OLS(endog= df_2['log_emission'], exog = df_2[['log_gdp']])\n",
    "results = reg.fit()\n",
    "print(results.summary())"
   ]
  },
  {
   "cell_type": "code",
   "execution_count": 51,
   "metadata": {},
   "outputs": [
    {
     "data": {
      "text/html": [
       "<div>\n",
       "<style scoped>\n",
       "    .dataframe tbody tr th:only-of-type {\n",
       "        vertical-align: middle;\n",
       "    }\n",
       "\n",
       "    .dataframe tbody tr th {\n",
       "        vertical-align: top;\n",
       "    }\n",
       "\n",
       "    .dataframe thead th {\n",
       "        text-align: right;\n",
       "    }\n",
       "</style>\n",
       "<table border=\"1\" class=\"dataframe\">\n",
       "  <thead>\n",
       "    <tr style=\"text-align: right;\">\n",
       "      <th></th>\n",
       "      <th>country_name</th>\n",
       "      <th>CO2_emission</th>\n",
       "      <th>gdp_per_capita</th>\n",
       "      <th>power_consumption</th>\n",
       "      <th>log_gdp</th>\n",
       "      <th>log_power_consumption</th>\n",
       "      <th>log_emission</th>\n",
       "      <th>const</th>\n",
       "    </tr>\n",
       "  </thead>\n",
       "  <tbody>\n",
       "    <tr>\n",
       "      <th>0</th>\n",
       "      <td>Albania</td>\n",
       "      <td>5.7122</td>\n",
       "      <td>11259.289824</td>\n",
       "      <td>2309.366503</td>\n",
       "      <td>4.051511</td>\n",
       "      <td>3.363493</td>\n",
       "      <td>0.756803</td>\n",
       "      <td>1</td>\n",
       "    </tr>\n",
       "    <tr>\n",
       "      <th>1</th>\n",
       "      <td>Algeria</td>\n",
       "      <td>143.1771</td>\n",
       "      <td>14317.042718</td>\n",
       "      <td>1362.871919</td>\n",
       "      <td>4.155853</td>\n",
       "      <td>3.134455</td>\n",
       "      <td>2.155874</td>\n",
       "      <td>1</td>\n",
       "    </tr>\n",
       "    <tr>\n",
       "      <th>2</th>\n",
       "      <td>Angola</td>\n",
       "      <td>34.4576</td>\n",
       "      <td>7199.245478</td>\n",
       "      <td>312.228825</td>\n",
       "      <td>3.857287</td>\n",
       "      <td>2.494473</td>\n",
       "      <td>1.537285</td>\n",
       "      <td>1</td>\n",
       "    </tr>\n",
       "    <tr>\n",
       "      <th>3</th>\n",
       "      <td>Argentina</td>\n",
       "      <td>202.6715</td>\n",
       "      <td>20008.320644</td>\n",
       "      <td>3074.702071</td>\n",
       "      <td>4.301211</td>\n",
       "      <td>3.487803</td>\n",
       "      <td>2.306793</td>\n",
       "      <td>1</td>\n",
       "    </tr>\n",
       "    <tr>\n",
       "      <th>4</th>\n",
       "      <td>Armenia</td>\n",
       "      <td>5.5814</td>\n",
       "      <td>8405.073655</td>\n",
       "      <td>1961.610395</td>\n",
       "      <td>3.924542</td>\n",
       "      <td>3.292613</td>\n",
       "      <td>0.746743</td>\n",
       "      <td>1</td>\n",
       "    </tr>\n",
       "  </tbody>\n",
       "</table>\n",
       "</div>"
      ],
      "text/plain": [
       "  country_name  CO2_emission  gdp_per_capita  power_consumption   log_gdp  \\\n",
       "0      Albania        5.7122    11259.289824        2309.366503  4.051511   \n",
       "1      Algeria      143.1771    14317.042718        1362.871919  4.155853   \n",
       "2       Angola       34.4576     7199.245478         312.228825  3.857287   \n",
       "3    Argentina      202.6715    20008.320644        3074.702071  4.301211   \n",
       "4      Armenia        5.5814     8405.073655        1961.610395  3.924542   \n",
       "\n",
       "   log_power_consumption  log_emission  const  \n",
       "0               3.363493      0.756803      1  \n",
       "1               3.134455      2.155874      1  \n",
       "2               2.494473      1.537285      1  \n",
       "3               3.487803      2.306793      1  \n",
       "4               3.292613      0.746743      1  "
      ]
     },
     "execution_count": 51,
     "metadata": {},
     "output_type": "execute_result"
    }
   ],
   "source": [
    "df_2.head()"
   ]
  },
  {
   "cell_type": "code",
   "execution_count": 52,
   "metadata": {},
   "outputs": [
    {
     "name": "stdout",
     "output_type": "stream",
     "text": [
      "                            OLS Regression Results                            \n",
      "==============================================================================\n",
      "Dep. Variable:           log_emission   R-squared:                       0.845\n",
      "Model:                            OLS   Adj. R-squared:                  0.842\n",
      "Method:                 Least Squares   F-statistic:                     312.8\n",
      "Date:                Thu, 17 Oct 2019   Prob (F-statistic):           3.10e-47\n",
      "Time:                        21:49:49   Log-Likelihood:                -126.03\n",
      "No. Observations:                 117   AIC:                             256.1\n",
      "Df Residuals:                     115   BIC:                             261.6\n",
      "Df Model:                           2                                         \n",
      "Covariance Type:            nonrobust                                         \n",
      "=========================================================================================\n",
      "                            coef    std err          t      P>|t|      [0.025      0.975]\n",
      "-----------------------------------------------------------------------------------------\n",
      "log_gdp                   0.0668      0.162      0.412      0.681      -0.255       0.388\n",
      "log_power_consumption     0.4138      0.202      2.045      0.043       0.013       0.815\n",
      "==============================================================================\n",
      "Omnibus:                        3.787   Durbin-Watson:                   2.029\n",
      "Prob(Omnibus):                  0.151   Jarque-Bera (JB):                3.301\n",
      "Skew:                           0.401   Prob(JB):                        0.192\n",
      "Kurtosis:                       3.187   Cond. No.                         20.8\n",
      "==============================================================================\n",
      "\n",
      "Warnings:\n",
      "[1] Standard Errors assume that the covariance matrix of the errors is correctly specified.\n"
     ]
    }
   ],
   "source": [
    "reg = sm.OLS(endog= df_2['log_emission'], exog = df_2[['log_gdp', 'log_power_consumption']])\n",
    "results = reg.fit()\n",
    "print(results.summary())"
   ]
  },
  {
   "cell_type": "code",
   "execution_count": 53,
   "metadata": {},
   "outputs": [],
   "source": [
    "df_2.drop('const', axis=1,inplace=True)"
   ]
  },
  {
   "cell_type": "code",
   "execution_count": 54,
   "metadata": {},
   "outputs": [],
   "source": [
    "df = df_2.iloc[:, 0:4]"
   ]
  },
  {
   "cell_type": "code",
   "execution_count": 55,
   "metadata": {},
   "outputs": [
    {
     "data": {
      "text/html": [
       "<div>\n",
       "<style scoped>\n",
       "    .dataframe tbody tr th:only-of-type {\n",
       "        vertical-align: middle;\n",
       "    }\n",
       "\n",
       "    .dataframe tbody tr th {\n",
       "        vertical-align: top;\n",
       "    }\n",
       "\n",
       "    .dataframe thead th {\n",
       "        text-align: right;\n",
       "    }\n",
       "</style>\n",
       "<table border=\"1\" class=\"dataframe\">\n",
       "  <thead>\n",
       "    <tr style=\"text-align: right;\">\n",
       "      <th></th>\n",
       "      <th>country_name</th>\n",
       "      <th>CO2_emission</th>\n",
       "      <th>gdp_per_capita</th>\n",
       "      <th>power_consumption</th>\n",
       "    </tr>\n",
       "  </thead>\n",
       "  <tbody>\n",
       "    <tr>\n",
       "      <th>0</th>\n",
       "      <td>Albania</td>\n",
       "      <td>5.7122</td>\n",
       "      <td>11259.289824</td>\n",
       "      <td>2309.366503</td>\n",
       "    </tr>\n",
       "    <tr>\n",
       "      <th>1</th>\n",
       "      <td>Algeria</td>\n",
       "      <td>143.1771</td>\n",
       "      <td>14317.042718</td>\n",
       "      <td>1362.871919</td>\n",
       "    </tr>\n",
       "    <tr>\n",
       "      <th>2</th>\n",
       "      <td>Angola</td>\n",
       "      <td>34.4576</td>\n",
       "      <td>7199.245478</td>\n",
       "      <td>312.228825</td>\n",
       "    </tr>\n",
       "    <tr>\n",
       "      <th>3</th>\n",
       "      <td>Argentina</td>\n",
       "      <td>202.6715</td>\n",
       "      <td>20008.320644</td>\n",
       "      <td>3074.702071</td>\n",
       "    </tr>\n",
       "    <tr>\n",
       "      <th>4</th>\n",
       "      <td>Armenia</td>\n",
       "      <td>5.5814</td>\n",
       "      <td>8405.073655</td>\n",
       "      <td>1961.610395</td>\n",
       "    </tr>\n",
       "  </tbody>\n",
       "</table>\n",
       "</div>"
      ],
      "text/plain": [
       "  country_name  CO2_emission  gdp_per_capita  power_consumption\n",
       "0      Albania        5.7122    11259.289824        2309.366503\n",
       "1      Algeria      143.1771    14317.042718        1362.871919\n",
       "2       Angola       34.4576     7199.245478         312.228825\n",
       "3    Argentina      202.6715    20008.320644        3074.702071\n",
       "4      Armenia        5.5814     8405.073655        1961.610395"
      ]
     },
     "execution_count": 55,
     "metadata": {},
     "output_type": "execute_result"
    }
   ],
   "source": [
    "df.head()"
   ]
  },
  {
   "cell_type": "code",
   "execution_count": 56,
   "metadata": {},
   "outputs": [],
   "source": [
    "#from sklearn.preprocessing import StandardScaler , Normalizer,RobustScaler, MinMaxScaler\n",
    "from sklearn.svm import SVR\n",
    "from sklearn.model_selection import GridSearchCV, cross_validate\n",
    "from sklearn.utils import shuffle"
   ]
  },
  {
   "cell_type": "code",
   "execution_count": 57,
   "metadata": {},
   "outputs": [],
   "source": [
    "X = np.array(df['gdp_per_capita']).reshape(-1,1)\n",
    "y = np.array(df['CO2_emission']).reshape(-1, 1)"
   ]
  },
  {
   "cell_type": "code",
   "execution_count": 58,
   "metadata": {},
   "outputs": [],
   "source": [
    "X = min_max_scaled.fit_transform(X)\n",
    "y = min_max_scaled.fit_transform(y)\n",
    "y = y.ravel()"
   ]
  },
  {
   "cell_type": "code",
   "execution_count": 59,
   "metadata": {},
   "outputs": [],
   "source": [
    "seed = 42\n",
    "X, y = shuffle(X, y ,random_state= seed)"
   ]
  },
  {
   "cell_type": "code",
   "execution_count": 60,
   "metadata": {},
   "outputs": [],
   "source": [
    "gsc = GridSearchCV(estimator= SVR(kernel='poly'),\n",
    "                   param_grid={'C': [0.1, 1, 100, 1000],\n",
    "                               'epsilon': [0.0001, 0.0005, 0.001, 0.005, 0.01, 0.05, 0.1, 0.5, 1, 5, 10],\n",
    "                               'gamma': [0.0001, 0.001, 0.005, 0.1, 1, 3, 5]},\n",
    "                   cv=5, scoring='neg_mean_squared_error', verbose=0, n_jobs=-1)\n"
   ]
  },
  {
   "cell_type": "code",
   "execution_count": 61,
   "metadata": {},
   "outputs": [
    {
     "name": "stderr",
     "output_type": "stream",
     "text": [
      "C:\\ProgramData\\Anaconda3\\lib\\site-packages\\sklearn\\model_selection\\_search.py:841: DeprecationWarning: The default of the `iid` parameter will change from True to False in version 0.22 and will be removed in 0.24. This will change numeric results when test-set sizes are unequal.\n",
      "  DeprecationWarning)\n"
     ]
    }
   ],
   "source": [
    "gsc_result = gsc.fit(X, y)\n",
    "best_params = gsc_result.best_params_"
   ]
  },
  {
   "cell_type": "code",
   "execution_count": 62,
   "metadata": {},
   "outputs": [
    {
     "data": {
      "text/plain": [
       "{'C': 100, 'epsilon': 0.01, 'gamma': 0.1}"
      ]
     },
     "execution_count": 62,
     "metadata": {},
     "output_type": "execute_result"
    }
   ],
   "source": [
    "best_params"
   ]
  },
  {
   "cell_type": "code",
   "execution_count": 63,
   "metadata": {},
   "outputs": [],
   "source": [
    "best_svr = SVR(kernel='poly', C=best_params[\"C\"], epsilon=best_params[\"epsilon\"], gamma=best_params[\"gamma\"],\n",
    "                   coef0=0.1, shrinking=True,\n",
    "                   tol=0.001, cache_size=200, verbose=False, max_iter=-1)\n",
    "scoring = {'abs_error': 'neg_mean_absolute_error',\n",
    "           'squared_error': 'neg_mean_squared_error'}\n",
    "\n",
    "scores = cross_validate(best_svr, X, y, cv=10, scoring=scoring, return_train_score=True)\n"
   ]
  },
  {
   "cell_type": "code",
   "execution_count": 64,
   "metadata": {},
   "outputs": [
    {
     "name": "stdout",
     "output_type": "stream",
     "text": [
      "MAE :0.029407696205297575\n",
      "RMSE :0.11136272663800226\n"
     ]
    }
   ],
   "source": [
    "print(\"MAE :{}\".format(abs(scores['test_abs_error'].mean())))\n",
    "print(\"RMSE :{}\".format(math.sqrt(abs(scores['test_squared_error'].mean()))))"
   ]
  },
  {
   "cell_type": "markdown",
   "metadata": {},
   "source": [
    "Sources: - both datasets are available on world bank website"
   ]
  },
  {
   "cell_type": "code",
   "execution_count": null,
   "metadata": {},
   "outputs": [],
   "source": []
  }
 ],
 "metadata": {
  "kernelspec": {
   "display_name": "Python 3",
   "language": "python",
   "name": "python3"
  },
  "language_info": {
   "codemirror_mode": {
    "name": "ipython",
    "version": 3
   },
   "file_extension": ".py",
   "mimetype": "text/x-python",
   "name": "python",
   "nbconvert_exporter": "python",
   "pygments_lexer": "ipython3",
   "version": "3.7.3"
  }
 },
 "nbformat": 4,
 "nbformat_minor": 2
}
